{
 "cells": [
  {
   "cell_type": "markdown",
   "metadata": {},
   "source": [
    "# 1. Overview"
   ]
  },
  {
   "cell_type": "markdown",
   "metadata": {},
   "source": [
    "We will be exploring the public data set that Google BigQuery has provided us. In particular we will be looking at the 2018 Yellow Taxi trips and the weather data set together. The variables from the weather data set are self explanatory from if you look at the field field names. The taxi data set however have some fields that are not immediately obvious in terms of their meaning, so the following are the detailed description of the fields associated with the taxi data set:\n",
    "* **vendor_id**:\tA code indicating the TPEP provider that provided the record. 1= Creative Mobile Technologies, LLC; 2= VeriFone Inc\n",
    "* **pickup_datetime**: The date and time when the meter was engaged.\n",
    "* **dropoff_datetime**: The date and time when the meter was disengaged\n",
    "* **passenger_count**: The number of passengers in the vehicle. This is a driver-entered value\n",
    "* **trip_distance**: The elapsed trip distance in miles reported by the taximeter.\n",
    "* **rate_code**: The final rate code in effect at the end of the trip. 1= Standard rate 2=JFK 3=Newark 4=Nassau or Westchester 5=Negotiated fare 6=Group ride\n",
    "* **store_and_fwd_flag**: This flag indicates whether the trip record was held in vehicle memory before sending to the vendor, aka “store and forward,” because the vehicle did not have a connection to the server. Y= store and forward trip N= not a store and forward trip\n",
    "* **payment_type**:\tA numeric code signifying how the passenger paid for the trip. 1= Credit card 2= Cash 3= No charge 4= Dispute 5= Unknown 6= Voided trip\n",
    "* **fare_amount**: The time-and-distance fare calculated by the meter\n",
    "* extra\tMiscellaneous extras and surcharges. Currently, this only includes the \\$0.50 and \\$1 rush hour and overnight charges.\n",
    "* **mta_tax**: \\$0.50 MTA tax that is automatically triggered based on the metered rate in use\n",
    "* **tip_amount**:\tTip amount – This field is automatically populated for credit card tips. Cash tips are not included\n",
    "* **tolls_amount**:\tTotal amount of all tolls paid in trip.\n",
    "* **imp_surcharge**:\t\\$0.30 improvement surcharge assessed trips at the flag drop. The improvement surcharge began being levied in 2015.\n",
    "* **total_amount**:\tThe total amount charged to passengers. Does not include cash tips\n",
    "* **pickup_location_id**: TLC Taxi Zone in which the taximeter was engaged\n",
    "* **dropoff_location_id**: TLC Taxi Zone in which the taximeter was disengaged"
   ]
  },
  {
   "cell_type": "markdown",
   "metadata": {},
   "source": [
    "# 2. Getting Started"
   ]
  },
  {
   "cell_type": "code",
   "execution_count": 97,
   "metadata": {},
   "outputs": [],
   "source": [
    "# Imports \n",
    "import numpy as np\n",
    "import pandas as pd\n",
    "import seaborn as sns\n",
    "import matplotlib.pyplot as plt\n",
    "import matplotlib.dates as mdates\n",
    "import time\n",
    "\n",
    "from pyspark.sql import SQLContext\n",
    "from pyspark.sql import types\n",
    "from pyspark.sql.functions import isnan, when, count, col\n",
    "\n",
    "%matplotlib inline\n",
    "plt.style.use('ggplot')"
   ]
  },
  {
   "cell_type": "code",
   "execution_count": 2,
   "metadata": {},
   "outputs": [],
   "source": [
    "# Initialize Spark\n",
    "sc = spark.sparkContext\n",
    "sqlContext = SQLContext(sc)"
   ]
  },
  {
   "cell_type": "code",
   "execution_count": 116,
   "metadata": {},
   "outputs": [
    {
     "name": "stdout",
     "output_type": "stream",
     "text": [
      "Waiting on bqjob_r5ae5d0098852883d_00000169b23015d0_1 ... (85s) Current status: DONE   \n"
     ]
    }
   ],
   "source": [
    "# Get data from BigQuery and store it into Cloud Storage as GZIP compressed .csv files\n",
    "!bq --location=US extract --compression GZIP 'bigquery-public-data:new_york_taxi_trips.tlc_yellow_trips_2018' gs://ajk-portfolio/data/nyc_taxi_trips/nyc_taxi_2018-*.csv.gz\n",
    "!bq --location=US extract --compression GZIP 'bigquery-public-data:new_york_taxi_trips.taxi_zone_geom' gs://ajk-portfolio/data/nyc_taxi_trips/nyc_taxi_zones-*.csv.gz\n",
    "!bq --location=US extract --compression GZIP 'bigquery-public-data:noaa_gsod.stations' gs://ajk-portfolio/data/nyc_weather/noaa_stations-*.csv.gz\n",
    "!bq --location=US extract --compression GZIP 'bigquery-public-data:noaa_gsod.gsod2018' gs://ajk-portfolio/data/nyc_weather/noaa_weather-*.csv.gz"
   ]
  },
  {
   "cell_type": "code",
   "execution_count": 3,
   "metadata": {},
   "outputs": [],
   "source": [
    "# Load data into Spark DataFrame\n",
    "trips_df = spark.read \\\n",
    "                .option(\"header\", \"true\") \\\n",
    "                .option(\"inferSchema\", \"true\") \\\n",
    "                .csv(\"gs://ajk-portfolio/data/nyc_taxi_trips/nyc_taxi_2018-*.csv.gz\")\n",
    "\n",
    "loc_df = spark.read \\\n",
    "              .option(\"header\", \"true\") \\\n",
    "              .option(\"inferSchema\", \"true\") \\\n",
    "              .csv(\"gs://ajk-portfolio/data/nyc_taxi_trips/nyc_taxi_zones-*.csv.gz\")\n",
    "\n",
    "stations_df = spark.read \\\n",
    "                   .option(\"header\", \"true\") \\\n",
    "                   .option(\"inferSchema\", \"true\") \\\n",
    "                   .csv(\"gs://ajk-portfolio/data/nyc_weather/noaa_stations-*.csv.gz\")\n",
    "\n",
    "weather_df = spark.read \\\n",
    "                  .option(\"header\", \"true\") \\\n",
    "                  .option(\"inferSchema\", \"true\") \\\n",
    "                  .csv(\"gs://ajk-portfolio/data/nyc_weather/noaa_weather-*.csv.gz\")"
   ]
  },
  {
   "cell_type": "code",
   "execution_count": 10,
   "metadata": {},
   "outputs": [
    {
     "name": "stdout",
     "output_type": "stream",
     "text": [
      "root\n",
      " |-- vendor_id: integer (nullable = true)\n",
      " |-- pickup_datetime: timestamp (nullable = true)\n",
      " |-- dropoff_datetime: timestamp (nullable = true)\n",
      " |-- passenger_count: integer (nullable = true)\n",
      " |-- trip_distance: double (nullable = true)\n",
      " |-- rate_code: integer (nullable = true)\n",
      " |-- store_and_fwd_flag: string (nullable = true)\n",
      " |-- payment_type: integer (nullable = true)\n",
      " |-- fare_amount: double (nullable = true)\n",
      " |-- extra: double (nullable = true)\n",
      " |-- mta_tax: double (nullable = true)\n",
      " |-- tip_amount: double (nullable = true)\n",
      " |-- tolls_amount: double (nullable = true)\n",
      " |-- imp_surcharge: double (nullable = true)\n",
      " |-- total_amount: double (nullable = true)\n",
      " |-- pickup_location_id: integer (nullable = true)\n",
      " |-- dropoff_location_id: integer (nullable = true)\n",
      "\n",
      "root\n",
      " |-- zone_id: integer (nullable = true)\n",
      " |-- zone_name: string (nullable = true)\n",
      " |-- borough: string (nullable = true)\n",
      " |-- zone_geom: string (nullable = true)\n",
      "\n",
      "root\n",
      " |-- usaf: string (nullable = true)\n",
      " |-- wban: integer (nullable = true)\n",
      " |-- name: string (nullable = true)\n",
      " |-- country: string (nullable = true)\n",
      " |-- state: string (nullable = true)\n",
      " |-- call: string (nullable = true)\n",
      " |-- lat: double (nullable = true)\n",
      " |-- lon: double (nullable = true)\n",
      " |-- elev: double (nullable = true)\n",
      " |-- begin: integer (nullable = true)\n",
      " |-- end: integer (nullable = true)\n",
      "\n",
      "root\n",
      " |-- stn: integer (nullable = true)\n",
      " |-- wban: integer (nullable = true)\n",
      " |-- year: integer (nullable = true)\n",
      " |-- mo: integer (nullable = true)\n",
      " |-- da: integer (nullable = true)\n",
      " |-- temp: double (nullable = true)\n",
      " |-- count_temp: integer (nullable = true)\n",
      " |-- dewp: double (nullable = true)\n",
      " |-- count_dewp: integer (nullable = true)\n",
      " |-- slp: double (nullable = true)\n",
      " |-- count_slp: integer (nullable = true)\n",
      " |-- stp: double (nullable = true)\n",
      " |-- count_stp: integer (nullable = true)\n",
      " |-- visib: double (nullable = true)\n",
      " |-- count_visib: integer (nullable = true)\n",
      " |-- wdsp: double (nullable = true)\n",
      " |-- count_wdsp: integer (nullable = true)\n",
      " |-- mxpsd: double (nullable = true)\n",
      " |-- gust: double (nullable = true)\n",
      " |-- max: double (nullable = true)\n",
      " |-- flag_max: string (nullable = true)\n",
      " |-- min: double (nullable = true)\n",
      " |-- flag_min: string (nullable = true)\n",
      " |-- prcp: double (nullable = true)\n",
      " |-- flag_prcp: string (nullable = true)\n",
      " |-- sndp: double (nullable = true)\n",
      " |-- fog: integer (nullable = true)\n",
      " |-- rain_drizzle: integer (nullable = true)\n",
      " |-- snow_ice_pellets: integer (nullable = true)\n",
      " |-- hail: integer (nullable = true)\n",
      " |-- thunder: integer (nullable = true)\n",
      " |-- tornado_funnel_cloud: integer (nullable = true)\n",
      "\n"
     ]
    }
   ],
   "source": [
    "# Print schemas of each DataFrame to ensure the data got loaded correctly correctly\n",
    "trips_df.printSchema()\n",
    "loc_df.printSchema()\n",
    "stations_df.printSchema()\n",
    "weather_df.printSchema()"
   ]
  },
  {
   "cell_type": "code",
   "execution_count": 8,
   "metadata": {},
   "outputs": [],
   "source": [
    "# register temp table so it can be queried with SQL\n",
    "trips_df.registerTempTable(\"trips\")\n",
    "loc_df.registerTempTable(\"taxi_locations\")\n",
    "stations_df.registerTempTable(\"weather_stations\")\n",
    "weather_df.registerTempTable(\"weather\")"
   ]
  },
  {
   "cell_type": "code",
   "execution_count": 11,
   "metadata": {},
   "outputs": [],
   "source": [
    "# Join in all the loaded DataFrames into one\n",
    "query = \"\"\"\n",
    "WITH daily_weather AS\n",
    "    (SELECT\n",
    "        TO_DATE(CAST(UNIX_TIMESTAMP(CONCAT(w.mo,'/',w.da,'/',w.year), 'MM/dd/yyyy') AS TIMESTAMP)) AS weather_date,\n",
    "        w.temp AS avg_temp,\n",
    "        w.max AS max_temp,\n",
    "        w.min AS min_temp,\n",
    "        w.prcp AS percip_inch,\n",
    "        IF(w.sndp = 999.9, 0, w.sndp) AS snow_depth,\n",
    "        w.fog,\n",
    "        w.rain_drizzle,\n",
    "        w.snow_ice_pellets,\n",
    "        w.hail,\n",
    "        w.thunder,\n",
    "        w.tornado_funnel_cloud,\n",
    "        w.wdsp AS wind_speed,\n",
    "        w.dewp,\n",
    "        w.visib\n",
    "    FROM\n",
    "        weather w\n",
    "    WHERE \n",
    "        w.wban IN \n",
    "            (SELECT\n",
    "                ws.wban\n",
    "            FROM \n",
    "                weather_stations ws\n",
    "            WHERE\n",
    "                ws.country = 'US'\n",
    "                AND ws.state = 'NY'\n",
    "                AND ws.call = 'KNYC')),\n",
    "yellow_trips AS \n",
    "    (SELECT\n",
    "        t.vendor_id,\n",
    "        TO_DATE(t.pickup_datetime) AS pickup_date,\n",
    "        t.pickup_datetime,\n",
    "        TO_DATE(t.dropoff_datetime) AS dropoff_date,\n",
    "        dropoff_datetime,\n",
    "        t.passenger_count,\n",
    "        t.trip_distance,\n",
    "        t.rate_code,\n",
    "        t.store_and_fwd_flag, \n",
    "        t.payment_type,\n",
    "        t.fare_amount,\n",
    "        t.extra, \n",
    "        t.mta_tax, \n",
    "        t.tip_amount, \n",
    "        t.tolls_amount, \n",
    "        t.imp_surcharge,\n",
    "        t.total_amount, \n",
    "        t.pickup_location_id, \n",
    "        ptl.borough AS pickup_borough,\n",
    "        ptl.zone_name AS pickup_zone,\n",
    "        t.dropoff_location_id,\n",
    "        dtl.borough AS dropoff_borough,\n",
    "        dtl.zone_name AS dropoff_zone\n",
    "    FROM\n",
    "        trips t\n",
    "    LEFT JOIN\n",
    "        taxi_locations ptl\n",
    "        ON \n",
    "            ptl.zone_id = t.pickup_location_id\n",
    "    LEFT JOIN\n",
    "        taxi_locations dtl\n",
    "        ON\n",
    "            dtl.zone_id = t.dropoff_location_id)\n",
    "SELECT \n",
    "    yt.vendor_id,\n",
    "    yt.pickup_date,\n",
    "    yt.pickup_datetime,\n",
    "    yt.dropoff_date,\n",
    "    yt.dropoff_datetime,\n",
    "    yt.passenger_count,\n",
    "    yt.trip_distance,\n",
    "    yt.rate_code,\n",
    "    yt.store_and_fwd_flag,\n",
    "    yt.payment_type,\n",
    "    yt.fare_amount,\n",
    "    yt.extra,\n",
    "    yt.mta_tax,\n",
    "    yt.tip_amount,\n",
    "    yt.tolls_amount,\n",
    "    yt.imp_surcharge,\n",
    "    yt.total_amount,\n",
    "    yt.pickup_location_id,\n",
    "    yt.pickup_borough,\n",
    "    yt.pickup_zone,\n",
    "    yt.dropoff_location_id,\n",
    "    yt.dropoff_borough,\n",
    "    yt.dropoff_zone,\n",
    "    dw.avg_temp,\n",
    "    dw.max_temp,\n",
    "    dw.min_temp,\n",
    "    dw.percip_inch,\n",
    "    dw.snow_depth,\n",
    "    dw.fog,\n",
    "    dw.rain_drizzle,\n",
    "    dw.snow_ice_pellets,\n",
    "    dw.hail,\n",
    "    dw.thunder,\n",
    "    dw.tornado_funnel_cloud,\n",
    "    dw.wind_speed,\n",
    "    dw.dewp,\n",
    "    dw.visib\n",
    "FROM \n",
    "    yellow_trips yt\n",
    "LEFT JOIN\n",
    "    daily_weather dw\n",
    "    ON \n",
    "        dw.weather_date = yt.pickup_date\n",
    "\"\"\"\n",
    "\n",
    "# create a new DataFrame based on the query\n",
    "combo_df = spark.sql(query)\n",
    "\n",
    "# Register the new DataFrame so that we can do EDA\n",
    "combo_df.registerTempTable(\"combo\")"
   ]
  },
  {
   "cell_type": "markdown",
   "metadata": {},
   "source": [
    "# 3. Data Quality Check\n",
    "\n",
    "For the sake of brevity, I am not including the various steps I took for data quality check that was done prior to doing data analysis. However, the following are the summary of some of the important findings:\n",
    "* There are a handful of records where the `total_amount` paid for the is less than 0 or exceeds \\$100,000. This does not make a lot of sense given the data set, and seems to likely be caused by erroneous data entry. \n",
    "* There are few records where the `trip_distance` is either 0 or greater than 100,000 miles. the 0 miles travelled may be due to cancelled trips, while the ones where over 100,000 miles is traveled are likely caused by erroneous entries.\n",
    "* There are records where the `passenger_count` have odd values: 0 or greater than 100. Since this value is entered by taxi drivers, the 0s may be instances where the driver did not enter any value, and the ones over 100 may be erroneous entries.\n",
    "* The data set also seems to be incomplete, as there are data from odd years (e.g. 1989) and the trips are mainly from January-June 2018. There also seems to be only less than 200 trips for July 2018 - December 2018.\n",
    "\n",
    "The problematic records above are all removed prior to any subsequent analysis done as part of this notebook. In total 43K records were removed out of 63 million+ that the dataset contains.\n"
   ]
  },
  {
   "cell_type": "code",
   "execution_count": 12,
   "metadata": {},
   "outputs": [],
   "source": [
    "# Filtering out problematic data\n",
    "query = \"\"\"\n",
    "SELECT\n",
    "    *\n",
    "FROM\n",
    "    combo c\n",
    "WHERE \n",
    "    c.total_amount < 10000\n",
    "    AND c.total_amount > 0\n",
    "    AND c.trip_distance < 1000\n",
    "    AND c.passenger_count < 100\n",
    "    AND c.pickup_date >= '2018-01-01'\n",
    "    AND c.pickup_date < '2018-07-01'\n",
    "\"\"\"\n",
    "# create a new DataFrame based on the query\n",
    "combo_df = spark.sql(query)\n",
    "\n",
    "# Re-register the new DataFrame so that we can do EDA based on the clean data\n",
    "combo_df.registerTempTable(\"combo\")"
   ]
  },
  {
   "cell_type": "markdown",
   "metadata": {},
   "source": [
    "# 4. Exploratory Data Analysis\n",
    "\n",
    "* There seems to be records where the total amount exceeds $100,000, which does not make a lot of sense. Likely these records will have to be removed prior to any modelling work.\n",
    "* There seems to be a few issues with the `trip_distance` variables as there are instances where the logged value is 0 or greater than 100,000 miles. These are likely to be erroneous values and will be removed from the DataFrame\n",
    "* There seems to be"
   ]
  },
  {
   "cell_type": "markdown",
   "metadata": {},
   "source": [
    "### How many passengers do trips typically have?"
   ]
  },
  {
   "cell_type": "code",
   "execution_count": 22,
   "metadata": {},
   "outputs": [
    {
     "name": "stdout",
     "output_type": "stream",
     "text": [
      "+-------+-----------------+\n",
      "|summary|  passenger_count|\n",
      "+-------+-----------------+\n",
      "|  count|         63330490|\n",
      "|   mean|1.599967535384615|\n",
      "| stddev|1.247688856615686|\n",
      "|    min|                0|\n",
      "|    max|                9|\n",
      "+-------+-----------------+\n",
      "\n",
      "... completed job in 66.5154595375061 seconds\n"
     ]
    }
   ],
   "source": [
    "# get summary statistics for passenger_count\n",
    "start = time.time()\n",
    "combo_df.describe(['passenger_count']).show()\n",
    "print(f\"... completed job in {time.time() - start} seconds\")"
   ]
  },
  {
   "cell_type": "markdown",
   "metadata": {},
   "source": [
    "### How far are the distance for the taxi trips?\n",
    "It looks like on average each trip is about 3 miles."
   ]
  },
  {
   "cell_type": "code",
   "execution_count": 23,
   "metadata": {},
   "outputs": [
    {
     "name": "stdout",
     "output_type": "stream",
     "text": [
      "+-------+------------------+\n",
      "|summary|     trip_distance|\n",
      "+-------+------------------+\n",
      "|  count|          63330490|\n",
      "|   mean| 2.895500479784452|\n",
      "| stddev|3.7459989721729565|\n",
      "|    min|               0.0|\n",
      "|    max|             943.5|\n",
      "+-------+------------------+\n",
      "\n",
      "... completed job in 83.23741817474365 seconds\n"
     ]
    }
   ],
   "source": [
    "# get summary statistics for passenger_count\n",
    "start = time.time()\n",
    "combo_df.describe(['trip_distance']).show()\n",
    "print(f\"... completed job in {time.time() - start} seconds\")"
   ]
  },
  {
   "cell_type": "markdown",
   "metadata": {},
   "source": [
    "### How has the number of trips change over time?\n",
    "\n",
    "The number of trips seems to spike up significantly for the month of March, almost more than double the typical day on any other month. Currently I have no good explanation why there is such a big spike for the trip count in March, but this definitely needs to be explored further. Also there seems to be seasonality in the data, as the trip count tends to be higher during the weekday. There also seems to be a slight downward trend in trip count after April 2018."
   ]
  },
  {
   "cell_type": "code",
   "execution_count": 119,
   "metadata": {},
   "outputs": [
    {
     "name": "stdout",
     "output_type": "stream",
     "text": [
      "... completed job in 109.66610407829285 seconds\n"
     ]
    }
   ],
   "source": [
    "query = \"\"\"\n",
    "SELECT\n",
    "    c.pickup_date,\n",
    "    DATE_FORMAT(c.pickup_date, 'EEEE') AS day_of_week,\n",
    "    ROUND(COUNT(*)/1000, 2) AS trip_count_k\n",
    "FROM\n",
    "    combo c\n",
    "GROUP BY\n",
    "    c.pickup_date,\n",
    "    day_of_week\n",
    "\"\"\"\n",
    "\n",
    "start = time.time()\n",
    "pd_df = spark.sql(query).toPandas()\n",
    "print(f\"... completed job in {time.time() - start} seconds\")"
   ]
  },
  {
   "cell_type": "code",
   "execution_count": 128,
   "metadata": {},
   "outputs": [
    {
     "data": {
      "image/png": "[encoded data removed]",
      "text/plain": [
       "<Figure size 1152x432 with 1 Axes>"
      ]
     },
     "metadata": {},
     "output_type": "display_data"
    }
   ],
   "source": [
    "# plot out the daily trip count\n",
    "fig, ax = plt.subplots(figsize=(16,6))\n",
    "sns.lineplot(x='pickup_date', y='trip_count_k', data=pd_df)\n",
    "ax.set_ylabel('Trip Count (K)')\n",
    "plt.show()\n",
    "#pd_df.plot(x='date_month', y='trip_count_millions')"
   ]
  },
  {
   "cell_type": "markdown",
   "metadata": {},
   "source": [
    "### How do trips differ on weekends vs. weekdays?\n",
    "\n",
    "We are using median here for the trip count by weekday since there is a large spike in trip count in March. The median trip count should give us what the typical trip count is for each day of the week. After plotting out the trip count, it looks like the number of trips tend to be slightly higher on weekdays, indicating perhaps people tend to use taxi as means of commuting to and from work.\n"
   ]
  },
  {
   "cell_type": "code",
   "execution_count": 224,
   "metadata": {},
   "outputs": [
    {
     "data": {
      "image/png": "[encoded data removed]",
      "text/plain": [
       "<Figure size 864x360 with 1 Axes>"
      ]
     },
     "metadata": {},
     "output_type": "display_data"
    }
   ],
   "source": [
    "# aggregate by day of the week\n",
    "data = pd_df.groupby(\"day_of_week\").trip_count_k.median().to_frame().reset_index()\n",
    "\n",
    "# indicator for weekend vs. weekday so we can color it differently in the plot.\n",
    "data[\"weekend_ind\"] = data.day_of_week.apply(lambda x: 1 if (x == \"Saturday\" or x == \"Sunday\") else 0)\n",
    "data[\"sort_dow\"] = data[\"day_of_week\"].replace({\"Sunday\":0, \n",
    "                                                \"Monday\":1,\n",
    "                                                \"Tuesday\":2,\n",
    "                                                \"Wednesday\":3,\n",
    "                                                \"Thursday\":4,\n",
    "                                                \"Friday\": 5,\n",
    "                                                \"Saturday\":6})\n",
    "\n",
    "# sort the pd datfarame so that it shows up nicely in the plot\n",
    "data.sort_values(by=\"sort_dow\", inplace=True)\n",
    "\n",
    "# plot out the weekday median trip counts\n",
    "fig, ax = plt.subplots(figsize=(12,5))\n",
    "sns.barplot(x=\"day_of_week\",\n",
    "            y=\"trip_count_k\",\n",
    "            palette=[\"#978a84\", \"#bb3f3f\"],\n",
    "            data=data,\n",
    "            hue=\"weekend_ind\",\n",
    "            dodge=False, ax=ax)\n",
    "\n",
    "# remove legend and change labels\n",
    "ax.get_legend().remove()\n",
    "ax.set_ylabel(\"Trip Count (K)\")\n",
    "ax.set_xlabel(\"Day\")\n",
    "\n",
    "# show the plot!\n",
    "plt.show()"
   ]
  },
  {
   "cell_type": "markdown",
   "metadata": {},
   "source": [
    "### How does the weather affect trips?\n",
    "It looks like the number of trips gets really low when it is really cold outside (below freezing). However other than that, it looks like the trip counts does not really vary that much with Temperature. Similarly, it does not look like that percipitation affects the trip count that much either as shown in the scatterplot below."
   ]
  },
  {
   "cell_type": "code",
   "execution_count": 229,
   "metadata": {},
   "outputs": [
    {
     "name": "stdout",
     "output_type": "stream",
     "text": [
      "... completed job in 66.4732027053833 seconds\n"
     ]
    }
   ],
   "source": [
    "query = \"\"\"\n",
    "SELECT\n",
    "    c.pickup_date,\n",
    "    DATE_FORMAT(c.pickup_date, 'EEEE') AS day_of_week,\n",
    "    MEAN(c.avg_temp) AS mean_temp,\n",
    "    MEAN(c.percip_inch) AS mean_percip_inch,\n",
    "    ROUND(COUNT(*)/1000, 2) AS trip_count_k\n",
    "FROM\n",
    "    combo c\n",
    "GROUP BY\n",
    "    c.pickup_date,\n",
    "    day_of_week\n",
    "\"\"\"\n",
    "\n",
    "start = time.time()\n",
    "pd_df = spark.sql(query).toPandas()\n",
    "print(f\"... completed job in {time.time() - start} seconds\")"
   ]
  },
  {
   "cell_type": "code",
   "execution_count": 250,
   "metadata": {},
   "outputs": [
    {
     "data": {
      "image/png": "[encoded data removed]",
      "text/plain": [
       "<Figure size 720x576 with 1 Axes>"
      ]
     },
     "metadata": {},
     "output_type": "display_data"
    }
   ],
   "source": [
    "# indicator for weekend vs. weekday so we can color it differently in the plot.\n",
    "pd_df[\"weekend_ind\"] = pd_df.day_of_week.apply(lambda x: True if (x == \"Saturday\" or x == \"Sunday\") else False)\n",
    "\n",
    "# plot out the weekday median trip counts\n",
    "fig, ax = plt.subplots(figsize=(10, 8))\n",
    "sns.scatterplot(x=\"mean_temp\", y=\"trip_count_k\", palette=[\"#978a84\", \"#bb3f3f\"], hue=\"weekend_ind\", data=pd_df)\n",
    "\n",
    "# change labels\n",
    "ax.set_ylabel(\"Trip Count (K)\")\n",
    "ax.set_xlabel(\"Mean Temperature (°F)\")\n",
    "\n",
    "# show the plot!\n",
    "plt.show()\n"
   ]
  },
  {
   "cell_type": "code",
   "execution_count": 251,
   "metadata": {},
   "outputs": [
    {
     "data": {
      "image/png": "[encoded data removed]",
      "text/plain": [
       "<Figure size 720x576 with 1 Axes>"
      ]
     },
     "metadata": {},
     "output_type": "display_data"
    }
   ],
   "source": [
    "# plot out the weekday median trip counts\n",
    "fig, ax = plt.subplots(figsize=(10, 8))\n",
    "sns.scatterplot(x=\"mean_percip_inch\", y=\"trip_count_k\", palette=[\"#978a84\", \"#bb3f3f\"], hue=\"weekend_ind\", data=pd_df)\n",
    "\n",
    "# change labels\n",
    "ax.set_ylabel(\"Trip Count (K)\")\n",
    "ax.set_xlabel(\"Percipitation (inches)\")\n",
    "\n",
    "# show the plot!\n",
    "plt.show()"
   ]
  },
  {
   "cell_type": "markdown",
   "metadata": {},
   "source": [
    "### What payment methods are popular?"
   ]
  },
  {
   "cell_type": "code",
   "execution_count": 96,
   "metadata": {},
   "outputs": [
    {
     "name": "stdout",
     "output_type": "stream",
     "text": [
      "... completed job in 157.84352946281433 seconds\n"
     ]
    }
   ],
   "source": [
    "start = time.time()\n",
    "count = combo_df.count()\n",
    "print(f\"... completed job in {time.time() - start} seconds\")"
   ]
  },
  {
   "cell_type": "code",
   "execution_count": 93,
   "metadata": {},
   "outputs": [
    {
     "name": "stdout",
     "output_type": "stream",
     "text": [
      "... completed job in 153.00645208358765 seconds\n"
     ]
    },
    {
     "data": {
      "text/html": [
       "<div>\n",
       "<style scoped>\n",
       "    .dataframe tbody tr th:only-of-type {\n",
       "        vertical-align: middle;\n",
       "    }\n",
       "\n",
       "    .dataframe tbody tr th {\n",
       "        vertical-align: top;\n",
       "    }\n",
       "\n",
       "    .dataframe thead th {\n",
       "        text-align: right;\n",
       "    }\n",
       "</style>\n",
       "<table border=\"1\" class=\"dataframe\">\n",
       "  <thead>\n",
       "    <tr style=\"text-align: right;\">\n",
       "      <th></th>\n",
       "      <th>payment_type</th>\n",
       "      <th>trip_count</th>\n",
       "      <th>pct_total_trip_count</th>\n",
       "      <th>mean_fare_amount</th>\n",
       "      <th>stdev_fare_amount</th>\n",
       "    </tr>\n",
       "  </thead>\n",
       "  <tbody>\n",
       "    <tr>\n",
       "      <th>0</th>\n",
       "      <td>Credit Card</td>\n",
       "      <td>44131674</td>\n",
       "      <td>69.68</td>\n",
       "      <td>13.22</td>\n",
       "      <td>11.73</td>\n",
       "    </tr>\n",
       "    <tr>\n",
       "      <th>3</th>\n",
       "      <td>Cash</td>\n",
       "      <td>18806396</td>\n",
       "      <td>29.70</td>\n",
       "      <td>11.70</td>\n",
       "      <td>11.22</td>\n",
       "    </tr>\n",
       "    <tr>\n",
       "      <th>1</th>\n",
       "      <td>No Charge</td>\n",
       "      <td>311721</td>\n",
       "      <td>0.49</td>\n",
       "      <td>13.36</td>\n",
       "      <td>36.10</td>\n",
       "    </tr>\n",
       "    <tr>\n",
       "      <th>2</th>\n",
       "      <td>Dispute</td>\n",
       "      <td>80699</td>\n",
       "      <td>0.13</td>\n",
       "      <td>14.16</td>\n",
       "      <td>18.46</td>\n",
       "    </tr>\n",
       "  </tbody>\n",
       "</table>\n",
       "</div>"
      ],
      "text/plain": [
       "  payment_type  trip_count  pct_total_trip_count  mean_fare_amount  \\\n",
       "0  Credit Card    44131674                 69.68             13.22   \n",
       "3         Cash    18806396                 29.70             11.70   \n",
       "1    No Charge      311721                  0.49             13.36   \n",
       "2      Dispute       80699                  0.13             14.16   \n",
       "\n",
       "   stdev_fare_amount  \n",
       "0              11.73  \n",
       "3              11.22  \n",
       "1              36.10  \n",
       "2              18.46  "
      ]
     },
     "execution_count": 93,
     "metadata": {},
     "output_type": "execute_result"
    }
   ],
   "source": [
    "query = \"\"\"\n",
    "SELECT\n",
    "    CASE WHEN c.payment_type = 1 THEN \"Credit Card\"\n",
    "         WHEN c.payment_type = 2 THEN \"Cash\"\n",
    "         WHEN c.payment_type = 3 THEN \"No Charge\"\n",
    "         WHEN c.payment_type = 4 THEN \"Dispute\"\n",
    "         WHEN c.payment_type = 5 THEN \"Unknown\"\n",
    "         WHEN c.payment_type = 6 THEN \"Voided Trip\" \n",
    "         END AS payment_type,\n",
    "    COUNT(*) AS trip_count,\n",
    "    0 AS pct_total_trip_count,\n",
    "    ROUND(MEAN(c.fare_amount), 2) AS mean_fare_amount,\n",
    "    ROUND(STD(c.fare_amount), 2) AS stdev_fare_amount\n",
    "FROM\n",
    "    combo c\n",
    "GROUP BY \n",
    "    payment_type\n",
    "\"\"\"\n",
    "\n",
    "start = time.time()\n",
    "pd_df = spark.sql(query).toPandas()\n",
    "pd_df['pct_total_trip_count'] = round((pd_df['trip_count']*100)/count, 2)\n",
    "print(f\"... completed job in {time.time() - start} seconds\")\n",
    "pd_df.sort_values(by='trip_count', ascending=False)"
   ]
  },
  {
   "cell_type": "markdown",
   "metadata": {},
   "source": [
    "### What are the top trip destinations? and where are those trips coming from?\n",
    "Below is a results table that contain the top 3 destinations along with the top 5 origin for each of the 3 destinations. A few observation on the results:\n",
    "* It looks like in NYC, taxis are mainly used for short/medium distance transportation since the majority of the trips are fairly short in distance (around 1 mile or less), and the fare amount is relatively low (around \\$10)\n",
    "* In addition majority of the destination and origin are within Manhattan, which is the most populous borough in NYC.\n"
   ]
  },
  {
   "cell_type": "code",
   "execution_count": 28,
   "metadata": {},
   "outputs": [
    {
     "data": {
      "text/html": [
       "<div>\n",
       "<style scoped>\n",
       "    .dataframe tbody tr th:only-of-type {\n",
       "        vertical-align: middle;\n",
       "    }\n",
       "\n",
       "    .dataframe tbody tr th {\n",
       "        vertical-align: top;\n",
       "    }\n",
       "\n",
       "    .dataframe thead th {\n",
       "        text-align: right;\n",
       "    }\n",
       "</style>\n",
       "<table border=\"1\" class=\"dataframe\">\n",
       "  <thead>\n",
       "    <tr style=\"text-align: right;\">\n",
       "      <th></th>\n",
       "      <th>dropoff_borough</th>\n",
       "      <th>dropoff_zone</th>\n",
       "      <th>pickup_borough</th>\n",
       "      <th>pickup_zone</th>\n",
       "      <th>trip_count</th>\n",
       "      <th>avg_trip_distance</th>\n",
       "      <th>avg_passenger_count</th>\n",
       "      <th>avg_fare_amount</th>\n",
       "    </tr>\n",
       "  </thead>\n",
       "  <tbody>\n",
       "    <tr>\n",
       "      <th>0</th>\n",
       "      <td>Manhattan</td>\n",
       "      <td>Upper East Side North</td>\n",
       "      <td>Manhattan</td>\n",
       "      <td>Upper East Side South</td>\n",
       "      <td>371383</td>\n",
       "      <td>1.040262</td>\n",
       "      <td>1.572988</td>\n",
       "      <td>6.284421</td>\n",
       "    </tr>\n",
       "    <tr>\n",
       "      <th>1</th>\n",
       "      <td>Manhattan</td>\n",
       "      <td>Upper East Side North</td>\n",
       "      <td>Manhattan</td>\n",
       "      <td>Upper East Side North</td>\n",
       "      <td>322439</td>\n",
       "      <td>0.614163</td>\n",
       "      <td>1.572161</td>\n",
       "      <td>5.141416</td>\n",
       "    </tr>\n",
       "    <tr>\n",
       "      <th>2</th>\n",
       "      <td>Manhattan</td>\n",
       "      <td>Upper East Side North</td>\n",
       "      <td>Manhattan</td>\n",
       "      <td>Lenox Hill West</td>\n",
       "      <td>147456</td>\n",
       "      <td>1.081683</td>\n",
       "      <td>1.608921</td>\n",
       "      <td>6.341173</td>\n",
       "    </tr>\n",
       "    <tr>\n",
       "      <th>3</th>\n",
       "      <td>Manhattan</td>\n",
       "      <td>Upper East Side North</td>\n",
       "      <td>Manhattan</td>\n",
       "      <td>Yorkville West</td>\n",
       "      <td>134962</td>\n",
       "      <td>0.673250</td>\n",
       "      <td>1.601732</td>\n",
       "      <td>5.222884</td>\n",
       "    </tr>\n",
       "    <tr>\n",
       "      <th>4</th>\n",
       "      <td>Manhattan</td>\n",
       "      <td>Upper East Side North</td>\n",
       "      <td>Manhattan</td>\n",
       "      <td>Midtown Center</td>\n",
       "      <td>112407</td>\n",
       "      <td>1.991236</td>\n",
       "      <td>1.580329</td>\n",
       "      <td>10.214633</td>\n",
       "    </tr>\n",
       "    <tr>\n",
       "      <th>5</th>\n",
       "      <td>Manhattan</td>\n",
       "      <td>Midtown Center</td>\n",
       "      <td>Manhattan</td>\n",
       "      <td>Upper East Side South</td>\n",
       "      <td>155187</td>\n",
       "      <td>1.087860</td>\n",
       "      <td>1.545664</td>\n",
       "      <td>7.888813</td>\n",
       "    </tr>\n",
       "    <tr>\n",
       "      <th>6</th>\n",
       "      <td>Manhattan</td>\n",
       "      <td>Midtown Center</td>\n",
       "      <td>Manhattan</td>\n",
       "      <td>Penn Station/Madison Sq West</td>\n",
       "      <td>138413</td>\n",
       "      <td>1.307035</td>\n",
       "      <td>1.568465</td>\n",
       "      <td>9.091393</td>\n",
       "    </tr>\n",
       "    <tr>\n",
       "      <th>7</th>\n",
       "      <td>Manhattan</td>\n",
       "      <td>Midtown Center</td>\n",
       "      <td>Manhattan</td>\n",
       "      <td>Midtown Center</td>\n",
       "      <td>125097</td>\n",
       "      <td>0.619652</td>\n",
       "      <td>1.563123</td>\n",
       "      <td>6.858843</td>\n",
       "    </tr>\n",
       "    <tr>\n",
       "      <th>8</th>\n",
       "      <td>Manhattan</td>\n",
       "      <td>Midtown Center</td>\n",
       "      <td>Manhattan</td>\n",
       "      <td>Garment District</td>\n",
       "      <td>106948</td>\n",
       "      <td>0.964250</td>\n",
       "      <td>1.549417</td>\n",
       "      <td>7.055784</td>\n",
       "    </tr>\n",
       "    <tr>\n",
       "      <th>9</th>\n",
       "      <td>Manhattan</td>\n",
       "      <td>Midtown Center</td>\n",
       "      <td>Manhattan</td>\n",
       "      <td>Murray Hill</td>\n",
       "      <td>104056</td>\n",
       "      <td>0.933680</td>\n",
       "      <td>1.555768</td>\n",
       "      <td>7.388775</td>\n",
       "    </tr>\n",
       "    <tr>\n",
       "      <th>10</th>\n",
       "      <td>Manhattan</td>\n",
       "      <td>Upper East Side South</td>\n",
       "      <td>Manhattan</td>\n",
       "      <td>Upper East Side North</td>\n",
       "      <td>311214</td>\n",
       "      <td>1.039931</td>\n",
       "      <td>1.571150</td>\n",
       "      <td>7.003726</td>\n",
       "    </tr>\n",
       "    <tr>\n",
       "      <th>11</th>\n",
       "      <td>Manhattan</td>\n",
       "      <td>Upper East Side South</td>\n",
       "      <td>Manhattan</td>\n",
       "      <td>Upper East Side South</td>\n",
       "      <td>290075</td>\n",
       "      <td>0.650618</td>\n",
       "      <td>1.554994</td>\n",
       "      <td>5.431581</td>\n",
       "    </tr>\n",
       "    <tr>\n",
       "      <th>12</th>\n",
       "      <td>Manhattan</td>\n",
       "      <td>Upper East Side South</td>\n",
       "      <td>Manhattan</td>\n",
       "      <td>Midtown Center</td>\n",
       "      <td>147978</td>\n",
       "      <td>1.075639</td>\n",
       "      <td>1.574484</td>\n",
       "      <td>7.379494</td>\n",
       "    </tr>\n",
       "    <tr>\n",
       "      <th>13</th>\n",
       "      <td>Manhattan</td>\n",
       "      <td>Upper East Side South</td>\n",
       "      <td>Manhattan</td>\n",
       "      <td>Lenox Hill West</td>\n",
       "      <td>126220</td>\n",
       "      <td>0.720257</td>\n",
       "      <td>1.570631</td>\n",
       "      <td>5.648278</td>\n",
       "    </tr>\n",
       "    <tr>\n",
       "      <th>14</th>\n",
       "      <td>Manhattan</td>\n",
       "      <td>Upper East Side South</td>\n",
       "      <td>Manhattan</td>\n",
       "      <td>Midtown East</td>\n",
       "      <td>109393</td>\n",
       "      <td>1.014399</td>\n",
       "      <td>1.554313</td>\n",
       "      <td>6.950289</td>\n",
       "    </tr>\n",
       "  </tbody>\n",
       "</table>\n",
       "</div>"
      ],
      "text/plain": [
       "   dropoff_borough           dropoff_zone pickup_borough  \\\n",
       "0        Manhattan  Upper East Side North      Manhattan   \n",
       "1        Manhattan  Upper East Side North      Manhattan   \n",
       "2        Manhattan  Upper East Side North      Manhattan   \n",
       "3        Manhattan  Upper East Side North      Manhattan   \n",
       "4        Manhattan  Upper East Side North      Manhattan   \n",
       "5        Manhattan         Midtown Center      Manhattan   \n",
       "6        Manhattan         Midtown Center      Manhattan   \n",
       "7        Manhattan         Midtown Center      Manhattan   \n",
       "8        Manhattan         Midtown Center      Manhattan   \n",
       "9        Manhattan         Midtown Center      Manhattan   \n",
       "10       Manhattan  Upper East Side South      Manhattan   \n",
       "11       Manhattan  Upper East Side South      Manhattan   \n",
       "12       Manhattan  Upper East Side South      Manhattan   \n",
       "13       Manhattan  Upper East Side South      Manhattan   \n",
       "14       Manhattan  Upper East Side South      Manhattan   \n",
       "\n",
       "                     pickup_zone  trip_count  avg_trip_distance  \\\n",
       "0          Upper East Side South      371383           1.040262   \n",
       "1          Upper East Side North      322439           0.614163   \n",
       "2                Lenox Hill West      147456           1.081683   \n",
       "3                 Yorkville West      134962           0.673250   \n",
       "4                 Midtown Center      112407           1.991236   \n",
       "5          Upper East Side South      155187           1.087860   \n",
       "6   Penn Station/Madison Sq West      138413           1.307035   \n",
       "7                 Midtown Center      125097           0.619652   \n",
       "8               Garment District      106948           0.964250   \n",
       "9                    Murray Hill      104056           0.933680   \n",
       "10         Upper East Side North      311214           1.039931   \n",
       "11         Upper East Side South      290075           0.650618   \n",
       "12                Midtown Center      147978           1.075639   \n",
       "13               Lenox Hill West      126220           0.720257   \n",
       "14                  Midtown East      109393           1.014399   \n",
       "\n",
       "    avg_passenger_count  avg_fare_amount  \n",
       "0              1.572988         6.284421  \n",
       "1              1.572161         5.141416  \n",
       "2              1.608921         6.341173  \n",
       "3              1.601732         5.222884  \n",
       "4              1.580329        10.214633  \n",
       "5              1.545664         7.888813  \n",
       "6              1.568465         9.091393  \n",
       "7              1.563123         6.858843  \n",
       "8              1.549417         7.055784  \n",
       "9              1.555768         7.388775  \n",
       "10             1.571150         7.003726  \n",
       "11             1.554994         5.431581  \n",
       "12             1.574484         7.379494  \n",
       "13             1.570631         5.648278  \n",
       "14             1.554313         6.950289  "
      ]
     },
     "execution_count": 28,
     "metadata": {},
     "output_type": "execute_result"
    }
   ],
   "source": [
    "query = \"\"\"\n",
    "WITH top_destination_origin AS \n",
    "    (SELECT\n",
    "        c.dropoff_borough,\n",
    "        c.dropoff_zone,\n",
    "        c.pickup_borough,\n",
    "        c.pickup_zone,\n",
    "        COUNT(*) trip_count,\n",
    "        AVG(c.trip_distance) AS avg_trip_distance,\n",
    "        AVG(c.passenger_count) AS avg_passenger_count,\n",
    "        AVG(c.fare_amount) AS avg_fare_amount,\n",
    "        DENSE_RANK() OVER(PARTITION BY c.dropoff_borough, c.dropoff_zone ORDER BY COUNT(*) DESC) AS trip_count_rank\n",
    "    FROM\n",
    "        combo c\n",
    "    GROUP BY\n",
    "        c.pickup_borough,\n",
    "        c.pickup_zone,\n",
    "        c.dropoff_borough,\n",
    "        c.dropoff_zone),\n",
    "top_destination AS \n",
    "    (SELECT\n",
    "        c.dropoff_borough,\n",
    "        c.dropoff_zone,\n",
    "        DENSE_RANK() OVER(ORDER BY COUNT(*) DESC) AS trip_count_rank,\n",
    "        COUNT(*) AS trip_count\n",
    "    FROM \n",
    "        combo c\n",
    "    GROUP BY\n",
    "        c.dropoff_borough,\n",
    "        c.dropoff_zone)\n",
    "SELECT\n",
    "    tdo.dropoff_borough,\n",
    "    tdo.dropoff_zone,\n",
    "    tdo.pickup_borough,\n",
    "    tdo.pickup_zone,\n",
    "    tdo.trip_count,\n",
    "    tdo.avg_trip_distance,\n",
    "    tdo.avg_passenger_count,\n",
    "    tdo.avg_fare_amount\n",
    "FROM \n",
    "    top_destination td\n",
    "INNER JOIN \n",
    "    top_destination_origin tdo\n",
    "    ON \n",
    "        tdo.dropoff_borough = td.dropoff_borough\n",
    "        AND tdo.dropoff_zone = td.dropoff_zone\n",
    "WHERE\n",
    "    td.trip_count_rank IN (1, 2, 3) \n",
    "    AND tdo.trip_count_rank IN (1, 2, 3, 4, 5)\n",
    "ORDER BY\n",
    "    td.trip_count_rank,\n",
    "    tdo.trip_count_rank\n",
    "\"\"\"\n",
    "\n",
    "spark.sql(query).toPandas()"
   ]
  },
  {
   "cell_type": "markdown",
   "metadata": {},
   "source": [
    "# 5. Models"
   ]
  },
  {
   "cell_type": "code",
   "execution_count": null,
   "metadata": {},
   "outputs": [],
   "source": [
    "# predicting travel times\n",
    "# predicting total tip\n",
    "# pickup dropoff location web graph"
   ]
  },
  {
   "cell_type": "markdown",
   "metadata": {},
   "source": [
    "# 6. Conclusion"
   ]
  },
  {
   "cell_type": "code",
   "execution_count": null,
   "metadata": {},
   "outputs": [],
   "source": []
  }
 ],
 "metadata": {
  "kernelspec": {
   "display_name": "PySpark",
   "language": "python",
   "name": "pyspark"
  },
  "language_info": {
   "codemirror_mode": {
    "name": "ipython",
    "version": 3
   },
   "file_extension": ".py",
   "mimetype": "text/x-python",
   "name": "python",
   "nbconvert_exporter": "python",
   "pygments_lexer": "ipython3",
   "version": "3.6.5"
  }
 },
 "nbformat": 4,
 "nbformat_minor": 2
}